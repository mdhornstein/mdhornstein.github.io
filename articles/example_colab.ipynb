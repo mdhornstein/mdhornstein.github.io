{
  "nbformat": 4,
  "nbformat_minor": 0,
  "metadata": {
    "colab": {
      "provenance": [],
      "toc_visible": true,
      "authorship_tag": "ABX9TyPjXWUNR8KbgHDmjapLA/Pi",
      "include_colab_link": true
    },
    "kernelspec": {
      "name": "python3",
      "display_name": "Python 3"
    },
    "language_info": {
      "name": "python"
    }
  },
  "cells": [
    {
      "cell_type": "markdown",
      "metadata": {
        "id": "view-in-github",
        "colab_type": "text"
      },
      "source": [
        "<a href=\"https://colab.research.google.com/github/mdhornstein/mdhornstein.github.io/blob/main/articles/example_colab.ipynb\" target=\"_parent\"><img src=\"https://colab.research.google.com/assets/colab-badge.svg\" alt=\"Open In Colab\"/></a>"
      ]
    },
    {
      "cell_type": "markdown",
      "source": [
        "# Example colab"
      ],
      "metadata": {
        "id": "HC6CRO41izMT"
      }
    },
    {
      "cell_type": "markdown",
      "source": [
        "This notebook was created in Google colab and saved to my GitHub pages.\n",
        "\n"
      ],
      "metadata": {
        "id": "8n1ke0K_jLek"
      }
    },
    {
      "cell_type": "code",
      "source": [
        "3 + 3"
      ],
      "metadata": {
        "colab": {
          "base_uri": "https://localhost:8080/"
        },
        "id": "VWiJw_qrjSmo",
        "outputId": "3ef23385-775f-4f89-f9d0-f1695f3743fd"
      },
      "execution_count": 1,
      "outputs": [
        {
          "output_type": "execute_result",
          "data": {
            "text/plain": [
              "6"
            ]
          },
          "metadata": {},
          "execution_count": 1
        }
      ]
    },
    {
      "cell_type": "code",
      "source": [],
      "metadata": {
        "id": "Iq2aC8POjTCv"
      },
      "execution_count": null,
      "outputs": []
    }
  ]
}